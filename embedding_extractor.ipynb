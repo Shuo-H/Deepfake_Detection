{
 "cells": [
  {
   "cell_type": "code",
   "execution_count": 19,
   "metadata": {},
   "outputs": [],
   "source": [
    "from pathlib import Path\n",
    "import numpy as np\n",
    "from models import get_model\n",
    "import librosa\n",
    "from transformers import AutoProcessor, Wav2Vec2Model\n",
    "import torch\n",
    "from transformers import AutoFeatureExtractor, WavLMForXVector\n",
    "from tqdm import tqdm \n",
    "import os\n",
    "\n",
    "Pengi = get_model.get_model(\"mspengi\")\n",
    "pengi = Pengi(config=\"base\")"
   ]
  },
  {
   "cell_type": "code",
   "execution_count": 11,
   "metadata": {},
   "outputs": [],
   "source": [
    "def get_pengi_embed(file):\n",
    "    Pengi = get_model(\"mspengi\")\n",
    "    pengi = Pengi(config=\"base\")\n",
    "    _, audio_embeddings = pengi.get_audio_embeddings(audio_paths=[file])    \n",
    "    new_file = str(file).replace(\".WAV\", \"_pengi.npy\")    \n",
    "    np.save(f\"{new_file}\", audio_embeddings)\n",
    "        \n",
    "def get_clap_embed(file):\n",
    "    CLAP = get_model(\"msclap\")\n",
    "    clap_model = CLAP(version = '2023', use_cuda=False)\n",
    "    audio_embeddings = clap_model.get_audio_embeddings([file])\n",
    "    new_file = str(file).replace(\".WAV\", \"_clap.npy\")    \n",
    "    np.save(f\"{new_file}\", audio_embeddings)\n",
    "\n",
    "def get_wavlm_embed(file):\n",
    "    feature_extractor = AutoFeatureExtractor.from_pretrained(\"microsoft/wavlm-base-plus-sv\")\n",
    "    model = WavLMForXVector.from_pretrained(\"microsoft/wavlm-base-plus-sv\")\n",
    "    wav, sr = librosa.load(file, sr=16_000)\n",
    "    inputs = feature_extractor(wav, sampling_rate=sr, return_tensors=\"pt\", padding=True)\n",
    "    with torch.no_grad():\n",
    "        audio_embeddings = model(**inputs).embeddings\n",
    "\n",
    "    audio_embeddings = torch.nn.functional.normalize(audio_embeddings, dim=-1).cpu()            \n",
    "    new_file = str(file).replace(\".wav\", \".npy\")    \n",
    "    np.save(f\"{new_file}\", audio_embeddings)\n",
    "\n",
    "def get_wav2vec_embed(file):\n",
    "    processor = AutoProcessor.from_pretrained(\"facebook/wav2vec2-base-960h\")\n",
    "    model = Wav2Vec2Model.from_pretrained(\"facebook/wav2vec2-base-960h\")\n",
    "    wav, sr = librosa.load(file, sr=16_000)\n",
    "    inputs = processor(wav, sampling_rate=sr, return_tensors=\"pt\")\n",
    "    with torch.no_grad():\n",
    "        audio_embeddings = model(**inputs)\n",
    "    audio_embeddings = audio_embeddings.last_hidden_state\n",
    "    new_file = str(file).replace(\".wav\", \".npy\")\n",
    "    \n",
    "    np.save(f\"{new_file}\", audio_embeddings)"
   ]
  },
  {
   "cell_type": "code",
   "execution_count": 14,
   "metadata": {},
   "outputs": [],
   "source": [
    "def process_embeddings(folder, embedding_type):\n",
    "    if embedding_type == 'pengi':\n",
    "        get_pengi_embed(folder)\n",
    "    elif embedding_type == 'clap':\n",
    "        get_clap_embed(folder)\n",
    "    elif embedding_type == 'wavlm':\n",
    "        get_wavlm_embed(folder)\n",
    "    elif embedding_type == 'wav2vec':\n",
    "        get_wav2vec_embed(folder)\n",
    "    else:\n",
    "        raise ValueError(\"Unsupported embedding type provided\")\n",
    "process_embeddings(\"/media/konan/DataDrive/user_archive/home/shuohan/shan1/data_pred/data/timit_styletts/TEST/DR1/FAKS0/SA1.wav\", 'wav2vec')"
   ]
  },
  {
   "cell_type": "code",
   "execution_count": null,
   "metadata": {},
   "outputs": [],
   "source": []
  }
 ],
 "metadata": {
  "kernelspec": {
   "display_name": "token",
   "language": "python",
   "name": "python3"
  },
  "language_info": {
   "codemirror_mode": {
    "name": "ipython",
    "version": 3
   },
   "file_extension": ".py",
   "mimetype": "text/x-python",
   "name": "python",
   "nbconvert_exporter": "python",
   "pygments_lexer": "ipython3",
   "version": "3.8.19"
  }
 },
 "nbformat": 4,
 "nbformat_minor": 2
}
